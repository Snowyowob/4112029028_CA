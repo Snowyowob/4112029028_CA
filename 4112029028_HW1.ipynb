{
  "nbformat": 4,
  "nbformat_minor": 0,
  "metadata": {
    "colab": {
      "provenance": []
    },
    "kernelspec": {
      "name": "python3",
      "display_name": "Python 3"
    },
    "language_info": {
      "name": "python"
    }
  },
  "cells": [
    {
      "cell_type": "code",
      "source": [
        "x=5\n",
        "print(f\"變數x的值是: (x)\")\n",
        "print(f\"變數x記憶體地址是{id(x)}\")"
      ],
      "metadata": {
        "colab": {
          "base_uri": "https://localhost:8080/"
        },
        "id": "n8dx7hd_Lwyu",
        "outputId": "9474b782-018e-4361-aaf7-e226bdb20de2"
      },
      "execution_count": 1,
      "outputs": [
        {
          "output_type": "stream",
          "name": "stdout",
          "text": [
            "變數x的值是: (x)\n",
            "變數x記憶體地址是139681049641328\n"
          ]
        }
      ]
    }
  ]
}